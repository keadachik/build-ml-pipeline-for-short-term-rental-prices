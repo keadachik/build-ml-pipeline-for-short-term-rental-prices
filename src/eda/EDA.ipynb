{
 "cells": [
  {
   "cell_type": "code",
   "execution_count": 1,
   "id": "74b9ceaa-0534-42e4-b0c9-463087b19298",
   "metadata": {},
   "outputs": [
    {
     "name": "stderr",
     "output_type": "stream",
     "text": [
      "\u001b[34m\u001b[1mwandb\u001b[0m: Currently logged in as: \u001b[33mmkeadachik\u001b[0m (\u001b[33mmkeadachik-dynatrace\u001b[0m) to \u001b[32mhttps://api.wandb.ai\u001b[0m. Use \u001b[1m`wandb login --relogin`\u001b[0m to force relogin\n"
     ]
    },
    {
     "data": {
      "text/html": [
       "creating run (0.2s)"
      ],
      "text/plain": [
       "<IPython.core.display.HTML object>"
      ]
     },
     "metadata": {},
     "output_type": "display_data"
    },
    {
     "data": {
      "text/html": [
       "Tracking run with wandb version 0.21.3"
      ],
      "text/plain": [
       "<IPython.core.display.HTML object>"
      ]
     },
     "metadata": {},
     "output_type": "display_data"
    },
    {
     "data": {
      "text/html": [
       "Run data is saved locally in <code>/Users/kenadachi/build-ml-pipeline-for-short-term-rental-prices/src/eda/wandb/run-20250927_140910-c11uz976</code>"
      ],
      "text/plain": [
       "<IPython.core.display.HTML object>"
      ]
     },
     "metadata": {},
     "output_type": "display_data"
    },
    {
     "data": {
      "text/html": [
       "Syncing run <strong><a href='https://wandb.ai/mkeadachik-dynatrace/nyc_airbnb/runs/c11uz976' target=\"_blank\">fluent-night-12</a></strong> to <a href='https://wandb.ai/mkeadachik-dynatrace/nyc_airbnb' target=\"_blank\">Weights & Biases</a> (<a href='https://wandb.me/developer-guide' target=\"_blank\">docs</a>)<br>"
      ],
      "text/plain": [
       "<IPython.core.display.HTML object>"
      ]
     },
     "metadata": {},
     "output_type": "display_data"
    },
    {
     "data": {
      "text/html": [
       " View project at <a href='https://wandb.ai/mkeadachik-dynatrace/nyc_airbnb' target=\"_blank\">https://wandb.ai/mkeadachik-dynatrace/nyc_airbnb</a>"
      ],
      "text/plain": [
       "<IPython.core.display.HTML object>"
      ]
     },
     "metadata": {},
     "output_type": "display_data"
    },
    {
     "data": {
      "text/html": [
       " View run at <a href='https://wandb.ai/mkeadachik-dynatrace/nyc_airbnb/runs/c11uz976' target=\"_blank\">https://wandb.ai/mkeadachik-dynatrace/nyc_airbnb/runs/c11uz976</a>"
      ],
      "text/plain": [
       "<IPython.core.display.HTML object>"
      ]
     },
     "metadata": {},
     "output_type": "display_data"
    }
   ],
   "source": [
    "import wandb\n",
    "import pandas as pd\n",
    "\n",
    "run = wandb.init(project=\"nyc_airbnb\", group=\"eda\", save_code=True)\n",
    "local_path = wandb.use_artifact(\"sample.csv:latest\").file()\n",
    "df = pd.read_csv(local_path)\n"
   ]
  },
  {
   "cell_type": "code",
   "execution_count": 2,
   "id": "4ef66d1c-e9ff-42f2-b43a-c3174d0a7f58",
   "metadata": {},
   "outputs": [
    {
     "data": {
      "text/html": [
       "\n",
       "            <div>\n",
       "                <ins><a href=\"https://ydata.ai/register\">Upgrade to ydata-sdk</a></ins>\n",
       "                <p>\n",
       "                    Improve your data and profiling with ydata-sdk, featuring data quality scoring, redundancy detection, outlier identification, text validation, and synthetic data generation.\n",
       "                </p>\n",
       "            </div>\n",
       "            "
      ],
      "text/plain": [
       "<IPython.core.display.HTML object>"
      ]
     },
     "metadata": {},
     "output_type": "display_data"
    },
    {
     "data": {
      "application/vnd.jupyter.widget-view+json": {
       "model_id": "30c5c5b1e2034876a3b22982aa1e9ff5",
       "version_major": 2,
       "version_minor": 0
      },
      "text/plain": [
       "Summarize dataset:   0%|          | 0/5 [00:00<?, ?it/s]"
      ]
     },
     "metadata": {},
     "output_type": "display_data"
    },
    {
     "name": "stderr",
     "output_type": "stream",
     "text": [
      "100%|██████████| 16/16 [00:00<00:00, 80.84it/s]\n"
     ]
    },
    {
     "data": {
      "application/vnd.jupyter.widget-view+json": {
       "model_id": "b90901b253cc4111aa204c0d9ef678cd",
       "version_major": 2,
       "version_minor": 0
      },
      "text/plain": [
       "Generate report structure:   0%|          | 0/1 [00:00<?, ?it/s]"
      ]
     },
     "metadata": {},
     "output_type": "display_data"
    },
    {
     "data": {
      "application/vnd.jupyter.widget-view+json": {
       "model_id": "9483365e204d4e82ba568ee10a2c455c",
       "version_major": 2,
       "version_minor": 0
      },
      "text/plain": [
       "Render HTML:   0%|          | 0/1 [00:00<?, ?it/s]"
      ]
     },
     "metadata": {},
     "output_type": "display_data"
    },
    {
     "data": {
      "application/vnd.jupyter.widget-view+json": {
       "model_id": "1b765e6ccbab4fad8504da0cf65dd4c5",
       "version_major": 2,
       "version_minor": 0
      },
      "text/plain": [
       "Export report to file:   0%|          | 0/1 [00:00<?, ?it/s]"
      ]
     },
     "metadata": {},
     "output_type": "display_data"
    }
   ],
   "source": [
    "import ydata_profiling\n",
    "\n",
    "# Create profile report for original data\n",
    "df_original = df.copy()\n",
    "profile_original = ydata_profiling.ProfileReport(df_original)\n",
    "profile_original.to_file(\"report_original.html\")"
   ]
  },
  {
   "cell_type": "code",
   "execution_count": 3,
   "id": "30b2d3ee",
   "metadata": {},
   "outputs": [
    {
     "name": "stdout",
     "output_type": "stream",
     "text": [
      "Original dataset shape: (20000, 16)\n",
      "Cleaned dataset shape: (19001, 16)\n",
      "Removed 999 outliers\n"
     ]
    }
   ],
   "source": [
    "# Data cleaning - create a copy for cleaned data\n",
    "df_cleaned = df_original.copy()\n",
    "\n",
    "# Drop outliers\n",
    "min_price = 10\n",
    "max_price = 350\n",
    "idx = df_cleaned['price'].between(min_price, max_price)\n",
    "df_cleaned = df_cleaned[idx].copy()\n",
    "\n",
    "# Convert last_review to datetime\n",
    "df_cleaned['last_review'] = pd.to_datetime(df_cleaned['last_review'])\n",
    "\n",
    "print(f\"Original dataset shape: {df_original.shape}\")\n",
    "print(f\"Cleaned dataset shape: {df_cleaned.shape}\")\n",
    "print(f\"Removed {df_original.shape[0] - df_cleaned.shape[0]} outliers\")\n"
   ]
  },
  {
   "cell_type": "code",
   "execution_count": 4,
   "id": "85f8f354",
   "metadata": {},
   "outputs": [
    {
     "data": {
      "application/vnd.jupyter.widget-view+json": {
       "model_id": "139c8bbc6dd3435f9424d6032fa63879",
       "version_major": 2,
       "version_minor": 0
      },
      "text/plain": [
       "Summarize dataset:   0%|          | 0/5 [00:00<?, ?it/s]"
      ]
     },
     "metadata": {},
     "output_type": "display_data"
    },
    {
     "name": "stderr",
     "output_type": "stream",
     "text": [
      "100%|██████████| 16/16 [00:00<00:00, 96.35it/s]\n"
     ]
    },
    {
     "data": {
      "application/vnd.jupyter.widget-view+json": {
       "model_id": "0d0e9948e00840cb897b4cf9a7e50edf",
       "version_major": 2,
       "version_minor": 0
      },
      "text/plain": [
       "Generate report structure:   0%|          | 0/1 [00:00<?, ?it/s]"
      ]
     },
     "metadata": {},
     "output_type": "display_data"
    },
    {
     "data": {
      "application/vnd.jupyter.widget-view+json": {
       "model_id": "047077d7598a4b23836f1f6685a5ba53",
       "version_major": 2,
       "version_minor": 0
      },
      "text/plain": [
       "Render HTML:   0%|          | 0/1 [00:00<?, ?it/s]"
      ]
     },
     "metadata": {},
     "output_type": "display_data"
    },
    {
     "data": {
      "application/vnd.jupyter.widget-view+json": {
       "model_id": "cf12e72933ef4880a5bca7cbc900544c",
       "version_major": 2,
       "version_minor": 0
      },
      "text/plain": [
       "Export report to file:   0%|          | 0/1 [00:00<?, ?it/s]"
      ]
     },
     "metadata": {},
     "output_type": "display_data"
    },
    {
     "name": "stdout",
     "output_type": "stream",
     "text": [
      "Created profile report for cleaned data: report_cleaned.html\n"
     ]
    }
   ],
   "source": [
    "# Create profile report for cleaned data\n",
    "profile_cleaned = ydata_profiling.ProfileReport(df_cleaned)\n",
    "profile_cleaned.to_file(\"report_cleaned.html\")\n",
    "\n",
    "print(\"Created profile report for cleaned data: report_cleaned.html\")\n"
   ]
  },
  {
   "cell_type": "code",
   "execution_count": 5,
   "id": "7be486f8-e06b-4009-87f1-4920c23d9404",
   "metadata": {},
   "outputs": [
    {
     "name": "stdout",
     "output_type": "stream",
     "text": [
      "Cleaned dataset shape: (19001, 16)\n",
      "Price range: 10 - 350\n",
      "Uploaded cleaned data to W&B\n"
     ]
    }
   ],
   "source": [
    "# Upload cleaned data to W&B\n",
    "import wandb\n",
    "\n",
    "# Save cleaned data\n",
    "df_cleaned.to_csv(\"sample_cleaned.csv\", index=False)\n",
    "\n",
    "# Create artifact for cleaned data\n",
    "artifact = wandb.Artifact(\n",
    "    \"sample_cleaned.csv\",\n",
    "    type=\"clean_data\",\n",
    "    description=\"Cleaned sample data with outliers removed and date conversion\"\n",
    ")\n",
    "artifact.add_file(\"sample_cleaned.csv\")\n",
    "run.log_artifact(artifact)\n",
    "\n",
    "print(f\"Cleaned dataset shape: {df_cleaned.shape}\")\n",
    "print(f\"Price range: {df_cleaned['price'].min()} - {df_cleaned['price'].max()}\")\n",
    "print(\"Uploaded cleaned data to W&B\")"
   ]
  },
  {
   "cell_type": "code",
   "execution_count": 6,
   "id": "c8295c3b",
   "metadata": {},
   "outputs": [
    {
     "data": {
      "text/html": [],
      "text/plain": [
       "<IPython.core.display.HTML object>"
      ]
     },
     "metadata": {},
     "output_type": "display_data"
    },
    {
     "data": {
      "text/html": [
       " View run <strong style=\"color:#cdcd00\">fluent-night-12</strong> at: <a href='https://wandb.ai/mkeadachik-dynatrace/nyc_airbnb/runs/c11uz976' target=\"_blank\">https://wandb.ai/mkeadachik-dynatrace/nyc_airbnb/runs/c11uz976</a><br> View project at: <a href='https://wandb.ai/mkeadachik-dynatrace/nyc_airbnb' target=\"_blank\">https://wandb.ai/mkeadachik-dynatrace/nyc_airbnb</a><br>Synced 6 W&B file(s), 0 media file(s), 10 artifact file(s) and 0 other file(s)"
      ],
      "text/plain": [
       "<IPython.core.display.HTML object>"
      ]
     },
     "metadata": {},
     "output_type": "display_data"
    },
    {
     "data": {
      "text/html": [
       "Find logs at: <code>./wandb/run-20250927_140910-c11uz976/logs</code>"
      ],
      "text/plain": [
       "<IPython.core.display.HTML object>"
      ]
     },
     "metadata": {},
     "output_type": "display_data"
    },
    {
     "name": "stdout",
     "output_type": "stream",
     "text": [
      "W&B run finished successfully!\n"
     ]
    }
   ],
   "source": [
    "# Terminate the W&B run\n",
    "run.finish()\n",
    "\n",
    "print(\"W&B run finished successfully!\")\n"
   ]
  },
  {
   "cell_type": "code",
   "execution_count": null,
   "id": "16770fb2",
   "metadata": {},
   "outputs": [],
   "source": []
  }
 ],
 "metadata": {
  "kernelspec": {
   "display_name": "nyc_airbnb_dev",
   "language": "python",
   "name": "python3"
  },
  "language_info": {
   "codemirror_mode": {
    "name": "ipython",
    "version": 3
   },
   "file_extension": ".py",
   "mimetype": "text/x-python",
   "name": "python",
   "nbconvert_exporter": "python",
   "pygments_lexer": "ipython3",
   "version": "3.13.7"
  }
 },
 "nbformat": 4,
 "nbformat_minor": 5
}
